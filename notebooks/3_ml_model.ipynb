{
 "cells": [
  {
   "cell_type": "markdown",
   "id": "db0d9395",
   "metadata": {},
   "source": [
    "### 1. Imports & Setup "
   ]
  },
  {
   "cell_type": "code",
   "execution_count": 1,
   "id": "93fb9ed3",
   "metadata": {},
   "outputs": [],
   "source": [
    "import pandas as pd\n",
    "from sklearn.model_selection import train_test_split\n",
    "from sklearn.preprocessing import OneHotEncoder\n",
    "from sklearn.linear_model import LinearRegression\n",
    "from sklearn.ensemble import GradientBoostingRegressor\n",
    "from sklearn.metrics import mean_absolute_error, mean_squared_error\n",
    "import numpy as np"
   ]
  },
  {
   "cell_type": "markdown",
   "id": "4dfbfebe",
   "metadata": {},
   "source": [
    "### 2. Load Cleaned Data"
   ]
  },
  {
   "cell_type": "code",
   "execution_count": 2,
   "id": "c57ff2bb",
   "metadata": {},
   "outputs": [],
   "source": [
    "df = pd.read_csv('../data/processed/cleaned_data.csv')"
   ]
  },
  {
   "cell_type": "code",
   "execution_count": 3,
   "id": "e88da3c3",
   "metadata": {},
   "outputs": [],
   "source": [
    "df = df.dropna(subset=['price', 'brand_popularity'])"
   ]
  },
  {
   "cell_type": "markdown",
   "id": "9a7e28f6",
   "metadata": {},
   "source": [
    "### 3. Feature Engineering"
   ]
  },
  {
   "cell_type": "code",
   "execution_count": 6,
   "id": "e9fd4566",
   "metadata": {},
   "outputs": [],
   "source": [
    "df['desc_length'] = df['description'].astype(str).apply(len) #length of description\n",
    "\n",
    "# one hot encode categorical columns\n",
    "categorical_cols = ['brand', 'type']\n",
    "df_encoded = pd.get_dummies(df[categorical_cols], drop_first=True)\n",
    "\n",
    "# Final features\n",
    "X = pd.concat([df[['brand_popularity', 'desc_length']], df_encoded], axis=1)\n",
    "Y = df['price']"
   ]
  },
  {
   "cell_type": "markdown",
   "id": "310c9ef3",
   "metadata": {},
   "source": [
    "### 4. Train/Test Split"
   ]
  },
  {
   "cell_type": "code",
   "execution_count": 9,
   "id": "a23b53cd",
   "metadata": {},
   "outputs": [],
   "source": [
    "X_train, X_test, Y_train, Y_test = train_test_split(X, Y, test_size=0.2, random_state=42)"
   ]
  },
  {
   "cell_type": "markdown",
   "id": "df1f858a",
   "metadata": {},
   "source": [
    "### 5. Models"
   ]
  },
  {
   "cell_type": "code",
   "execution_count": 10,
   "id": "0d48b3b2",
   "metadata": {},
   "outputs": [],
   "source": [
    "# Linear Regression Model\n",
    "lr_model = LinearRegression()\n",
    "lr_model.fit(X_train, Y_train)\n",
    "lr_predictions = lr_model.predict(X_test)\n",
    "\n",
    "# XGBoost / Gradient Boosting \n",
    "gbr = GradientBoostingRegressor()\n",
    "gbr.fit(X_train, Y_train)\n",
    "gbr_predictions = gbr.predict(X_test)"
   ]
  },
  {
   "cell_type": "markdown",
   "id": "2d514098",
   "metadata": {},
   "source": [
    "### 6. Evaluation"
   ]
  },
  {
   "cell_type": "code",
   "execution_count": 11,
   "id": "135ee3be",
   "metadata": {},
   "outputs": [
    {
     "name": "stdout",
     "output_type": "stream",
     "text": [
      "Linear Regression MAE: 699.76\n",
      "Linear Regression RMSE: 925.06\n",
      "Gradient Boosting MAE: 627.88\n",
      "Gradient Boosting RMSE: 851.07\n"
     ]
    }
   ],
   "source": [
    "def evaluate(name, y_true, y_pred):\n",
    "    print(f\"{name} MAE: {mean_absolute_error(y_true, y_pred):.2f}\")\n",
    "    print(f\"{name} RMSE: {np.sqrt(mean_squared_error(y_true, y_pred)):.2f}\")\n",
    "\n",
    "evaluate(\"Linear Regression\", Y_test, lr_predictions)\n",
    "evaluate(\"Gradient Boosting\", Y_test, gbr_predictions)"
   ]
  }
 ],
 "metadata": {
  "kernelspec": {
   "display_name": "base",
   "language": "python",
   "name": "python3"
  },
  "language_info": {
   "codemirror_mode": {
    "name": "ipython",
    "version": 3
   },
   "file_extension": ".py",
   "mimetype": "text/x-python",
   "name": "python",
   "nbconvert_exporter": "python",
   "pygments_lexer": "ipython3",
   "version": "3.11.4"
  }
 },
 "nbformat": 4,
 "nbformat_minor": 5
}
